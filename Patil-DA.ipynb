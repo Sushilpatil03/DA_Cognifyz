{
 "cells": [
  {
   "cell_type": "markdown",
   "id": "fd6d9c59-397a-4ac9-be89-b360bac9a9e4",
   "metadata": {},
   "source": [
    "# All required libraries"
   ]
  },
  {
   "cell_type": "code",
   "execution_count": 1,
   "id": "6d242106-7edb-43c9-bc4a-178d9c245c6c",
   "metadata": {},
   "outputs": [],
   "source": [
    "import pandas as pd\n",
    "import numpy as np\n",
    "import matplotlib.pyplot as plt\n",
    "import seaborn as sns\n",
    "#!pip install folium\n",
    "from folium.plugins import MarkerCluster\n",
    "#!pip install Counter\n",
    "from collections import Counter\n"
   ]
  },
  {
   "cell_type": "markdown",
   "id": "65ad72a1-de2b-409c-9a80-b4ec9d639ccb",
   "metadata": {},
   "source": [
    "# Import data"
   ]
  },
  {
   "cell_type": "code",
   "execution_count": 2,
   "id": "0b07c783-f914-4e50-bfca-03e68ef49096",
   "metadata": {},
   "outputs": [
    {
     "name": "stdout",
     "output_type": "stream",
     "text": [
      "   Restaurant ID         Restaurant Name  Country Code              City  \\\n",
      "0        6317637        Le Petit Souffle           162       Makati City   \n",
      "1        6304287        Izakaya Kikufuji           162       Makati City   \n",
      "2        6300002  Heat - Edsa Shangri-La           162  Mandaluyong City   \n",
      "3        6318506                    Ooma           162  Mandaluyong City   \n",
      "4        6314302             Sambo Kojin           162  Mandaluyong City   \n",
      "\n",
      "                                             Address  \\\n",
      "0  Third Floor, Century City Mall, Kalayaan Avenu...   \n",
      "1  Little Tokyo, 2277 Chino Roces Avenue, Legaspi...   \n",
      "2  Edsa Shangri-La, 1 Garden Way, Ortigas, Mandal...   \n",
      "3  Third Floor, Mega Fashion Hall, SM Megamall, O...   \n",
      "4  Third Floor, Mega Atrium, SM Megamall, Ortigas...   \n",
      "\n",
      "                                     Locality  \\\n",
      "0   Century City Mall, Poblacion, Makati City   \n",
      "1  Little Tokyo, Legaspi Village, Makati City   \n",
      "2  Edsa Shangri-La, Ortigas, Mandaluyong City   \n",
      "3      SM Megamall, Ortigas, Mandaluyong City   \n",
      "4      SM Megamall, Ortigas, Mandaluyong City   \n",
      "\n",
      "                                    Locality Verbose   Longitude   Latitude  \\\n",
      "0  Century City Mall, Poblacion, Makati City, Mak...  121.027535  14.565443   \n",
      "1  Little Tokyo, Legaspi Village, Makati City, Ma...  121.014101  14.553708   \n",
      "2  Edsa Shangri-La, Ortigas, Mandaluyong City, Ma...  121.056831  14.581404   \n",
      "3  SM Megamall, Ortigas, Mandaluyong City, Mandal...  121.056475  14.585318   \n",
      "4  SM Megamall, Ortigas, Mandaluyong City, Mandal...  121.057508  14.584450   \n",
      "\n",
      "                           Cuisines  ...          Currency Has Table booking  \\\n",
      "0        French, Japanese, Desserts  ...  Botswana Pula(P)               Yes   \n",
      "1                          Japanese  ...  Botswana Pula(P)               Yes   \n",
      "2  Seafood, Asian, Filipino, Indian  ...  Botswana Pula(P)               Yes   \n",
      "3                   Japanese, Sushi  ...  Botswana Pula(P)                No   \n",
      "4                  Japanese, Korean  ...  Botswana Pula(P)               Yes   \n",
      "\n",
      "  Has Online delivery Is delivering now Switch to order menu Price range  \\\n",
      "0                  No                No                   No           3   \n",
      "1                  No                No                   No           3   \n",
      "2                  No                No                   No           4   \n",
      "3                  No                No                   No           4   \n",
      "4                  No                No                   No           4   \n",
      "\n",
      "   Aggregate rating  Rating color Rating text Votes  \n",
      "0               4.8    Dark Green   Excellent   314  \n",
      "1               4.5    Dark Green   Excellent   591  \n",
      "2               4.4         Green   Very Good   270  \n",
      "3               4.9    Dark Green   Excellent   365  \n",
      "4               4.8    Dark Green   Excellent   229  \n",
      "\n",
      "[5 rows x 21 columns]\n"
     ]
    }
   ],
   "source": [
    "import pandas as pd\n",
    "\n",
    "# File location\n",
    "data=pd.read_csv(\"Dataset .csv\")\n",
    "\n",
    "#display 5 rows\n",
    "print(data.head())"
   ]
  },
  {
   "cell_type": "markdown",
   "id": "81cad1fa-309e-4b4c-9167-34ea0ba838a2",
   "metadata": {},
   "source": [
    "## Level-1 (Task-1 : Top Cuisines)"
   ]
  },
  {
   "cell_type": "code",
   "execution_count": 3,
   "id": "0e1e85f7-6420-4300-8560-7f78c0cabc7a",
   "metadata": {},
   "outputs": [
    {
     "data": {
      "text/html": [
       "<div>\n",
       "<style scoped>\n",
       "    .dataframe tbody tr th:only-of-type {\n",
       "        vertical-align: middle;\n",
       "    }\n",
       "\n",
       "    .dataframe tbody tr th {\n",
       "        vertical-align: top;\n",
       "    }\n",
       "\n",
       "    .dataframe thead th {\n",
       "        text-align: right;\n",
       "    }\n",
       "</style>\n",
       "<table border=\"1\" class=\"dataframe\">\n",
       "  <thead>\n",
       "    <tr style=\"text-align: right;\">\n",
       "      <th></th>\n",
       "      <th>Cuisine</th>\n",
       "      <th>Count</th>\n",
       "      <th>Percentage (%)</th>\n",
       "    </tr>\n",
       "  </thead>\n",
       "  <tbody>\n",
       "    <tr>\n",
       "      <th>0</th>\n",
       "      <td>North Indian</td>\n",
       "      <td>3960</td>\n",
       "      <td>41.46</td>\n",
       "    </tr>\n",
       "    <tr>\n",
       "      <th>1</th>\n",
       "      <td>Chinese</td>\n",
       "      <td>2735</td>\n",
       "      <td>28.64</td>\n",
       "    </tr>\n",
       "    <tr>\n",
       "      <th>2</th>\n",
       "      <td>Fast Food</td>\n",
       "      <td>1986</td>\n",
       "      <td>20.79</td>\n",
       "    </tr>\n",
       "    <tr>\n",
       "      <th>3</th>\n",
       "      <td>Mughlai</td>\n",
       "      <td>995</td>\n",
       "      <td>10.42</td>\n",
       "    </tr>\n",
       "    <tr>\n",
       "      <th>4</th>\n",
       "      <td>Italian</td>\n",
       "      <td>764</td>\n",
       "      <td>8.00</td>\n",
       "    </tr>\n",
       "  </tbody>\n",
       "</table>\n",
       "</div>"
      ],
      "text/plain": [
       "        Cuisine  Count  Percentage (%)\n",
       "0  North Indian   3960           41.46\n",
       "1       Chinese   2735           28.64\n",
       "2     Fast Food   1986           20.79\n",
       "3       Mughlai    995           10.42\n",
       "4       Italian    764            8.00"
      ]
     },
     "execution_count": 3,
     "metadata": {},
     "output_type": "execute_result"
    }
   ],
   "source": [
    "#1- Count cuisines {some rows have multiple cuisines separated by commas}-We'll split them and count properly.\n",
    "# Split cuisines by comma, remove extra spaces, and count frequency\n",
    "\n",
    "cuisine_counts = (\n",
    "    data['Cuisines']\n",
    "    .dropna()\n",
    "    .str.split(',')\n",
    "    .explode()\n",
    "    .str.strip()\n",
    "    .value_counts()\n",
    ")\n",
    "#2- Get top 5 cuisines\n",
    "top3_cuisines = cuisine_counts.head(5)\n",
    "top3_cuisines\n",
    "\n",
    "#3- Calculate percentage of restaurants serving each top cuisine\n",
    "total_restaurants = data.shape[0]\n",
    "percentages = (top3_cuisines / total_restaurants * 100).round(2)\n",
    "\n",
    "top3_result = pd.DataFrame({\n",
    "    \"Cuisine\": top3_cuisines.index,\n",
    "    \"Count\": top3_cuisines.values,\n",
    "    \"Percentage (%)\": percentages.values\n",
    "})\n",
    "top3_result\n",
    "top3_result.head(5)"
   ]
  },
  {
   "cell_type": "markdown",
   "id": "26d2e3c0-2af2-44d3-846c-8939afee004c",
   "metadata": {},
   "source": [
    "## Level-1 (Task-2 : City Analysis)"
   ]
  },
  {
   "cell_type": "code",
   "execution_count": 4,
   "id": "2dc303c5-4d08-42eb-a658-ef5dfec885ce",
   "metadata": {},
   "outputs": [
    {
     "name": "stdout",
     "output_type": "stream",
     "text": [
      "City with the highest number of restaurants:-\n",
      "New Delhi (5473 restaurants)\n",
      "\n",
      "Average rating for each city:-\n",
      "City\n",
      "Abu Dhabi          4.30\n",
      "Agra               3.96\n",
      "Ahmedabad          4.16\n",
      "Albany             3.56\n",
      "Allahabad          3.40\n",
      "                   ... \n",
      "Weirton            3.90\n",
      "Wellington City    4.25\n",
      "Winchester Bay     3.20\n",
      "Yorkton            3.30\n",
      "��stanbul          4.29\n",
      "Name: Aggregate rating, Length: 141, dtype: float64 \n",
      "\n",
      "City with the highest average rating:-\n",
      "Inner City (Average Rating: 4.9)\n"
     ]
    }
   ],
   "source": [
    "#1: City with highest number of restaurants\n",
    "city_rest_counts = data['City'].value_counts()\n",
    "top_city_restaurants = city_rest_counts.idxmax()\n",
    "top_city_count = city_rest_counts.max()\n",
    "\n",
    "#2: Average rating for restaurants in each city\n",
    "avg_ratings = data.groupby('City')['Aggregate rating'].mean().round(2)\n",
    "\n",
    "#3: City with highest average rating\n",
    "top_city_rating = avg_ratings.idxmax()\n",
    "highest_avg_rating = avg_ratings.max()\n",
    "\n",
    "#Print results\n",
    "print(\"City with the highest number of restaurants:-\")\n",
    "print(f\"{top_city_restaurants} ({top_city_count} restaurants)\\n\")\n",
    "print(\"Average rating for each city:-\")\n",
    "print(avg_ratings, \"\\n\")\n",
    "print(\"City with the highest average rating:-\")\n",
    "print(f\"{top_city_rating} (Average Rating: {highest_avg_rating})\")\n"
   ]
  },
  {
   "cell_type": "markdown",
   "id": "7f0df7d2-9fc8-4e0e-88dc-ad6e3e5e67e0",
   "metadata": {},
   "source": [
    "## Level-1 (Task-3 : Price range distribution)"
   ]
  },
  {
   "cell_type": "code",
   "execution_count": 5,
   "id": "6b7d4331-ffe1-494c-b341-ecbb0ba332dc",
   "metadata": {},
   "outputs": [
    {
     "data": {
      "image/png": "[encoded data removed]",
      "text/plain": [
       "<Figure size 800x500 with 1 Axes>"
      ]
     },
     "metadata": {},
     "output_type": "display_data"
    },
    {
     "name": "stdout",
     "output_type": "stream",
     "text": [
      "Percentage of Restaurants in Each Price Range:-\n",
      "Price range\n",
      "1    46.53\n",
      "2    32.59\n",
      "3    14.74\n",
      "4     6.14\n",
      "Name: count, dtype: float64\n"
     ]
    }
   ],
   "source": [
    "#1: Count restaurants in each price range-\n",
    "price_counts = data['Price range'].value_counts().sort_index()\n",
    "\n",
    "#2: Calculate percentage of restaurants in each price range\n",
    "total_restaurants = data.shape[0]\n",
    "price_percentages = (price_counts / total_restaurants * 100).round(2)\n",
    "\n",
    "#3: Create a bar chart-\n",
    "plt.figure(figsize=(8,5))\n",
    "price_counts.plot(kind='bar', color='skyblue', edgecolor='black')\n",
    "\n",
    "plt.title(\"Distribution of Price Ranges among Restaurants\")\n",
    "plt.xlabel(\"Price Range Category\")\n",
    "plt.ylabel(\"Number of Restaurants\")\n",
    "plt.xticks(rotation=0)\n",
    "plt.show()\n",
    "\n",
    "#4: Print percentage distribution-\n",
    "print(\"Percentage of Restaurants in Each Price Range:-\")\n",
    "print(price_percentages)\n"
   ]
  },
  {
   "cell_type": "markdown",
   "id": "670a9dac-fc30-4feb-ab31-7591786f0e8e",
   "metadata": {},
   "source": [
    "## Level-1(Task-4 : Online Delivary)"
   ]
  },
  {
   "cell_type": "code",
   "execution_count": 6,
   "id": "bf6da326-db12-4126-8a24-f62ebaabc965",
   "metadata": {},
   "outputs": [
    {
     "name": "stdout",
     "output_type": "stream",
     "text": [
      "Percentage of Restaurants Offering Online Delivery:\n",
      "Has Online delivery\n",
      "No     74.34\n",
      "Yes    25.66\n",
      "Name: count, dtype: float64 \n",
      "\n",
      "Average Ratings (With vs Without Online Delivery):\n",
      "Has Online delivery\n",
      "No     2.47\n",
      "Yes    3.25\n",
      "Name: Aggregate rating, dtype: float64\n"
     ]
    }
   ],
   "source": [
    "#1: Percentage of restaurants offering online delivery\n",
    "online_delivery_counts = data['Has Online delivery'].value_counts()\n",
    "total_restaurants = data.shape[0]\n",
    "online_delivery_percentage = (online_delivery_counts / total_restaurants * 100).round(2)\n",
    "\n",
    "#2: Compare average ratings of restaurants with & without online delivery\n",
    "avg_rating_comparison = data.groupby('Has Online delivery')['Aggregate rating'].mean().round(2)\n",
    "\n",
    "# Print results\n",
    "print(\"Percentage of Restaurants Offering Online Delivery:\")\n",
    "print(online_delivery_percentage, \"\\n\")\n",
    "print(\"Average Ratings (With vs Without Online Delivery):\")\n",
    "print(avg_rating_comparison)\n"
   ]
  },
  {
   "cell_type": "markdown",
   "id": "58a462ac-eb28-447b-b385-aea851002daa",
   "metadata": {},
   "source": [
    "## Level-2(Task-1 : Restaurant Ratings)"
   ]
  },
  {
   "cell_type": "code",
   "execution_count": null,
   "id": "df3772ff-23b4-4cd3-82f7-885250b560b5",
   "metadata": {},
   "outputs": [],
   "source": [
    "# Distribution of aggregate ratings\n",
    "plt.figure(figsize=(8,5))\n",
    "plt.hist(data['Aggregate rating'], bins=10, color='skyblue', edgecolor='black')\n",
    "plt.title(\"Distribution of Aggregate Ratings\")\n",
    "plt.xlabel(\"Aggregate Rating\")\n",
    "plt.ylabel(\"Number of Restaurants\")\n",
    "plt.show()\n",
    "\n",
    "# Determine the most common rating value\n",
    "most_common_rating = data['Aggregate rating'].mode()[0]\n",
    "\n",
    "# Average number of votes\n",
    "avg_votes = data['Votes'].mean().round(2)\n",
    "\n",
    "# Print results\n",
    "print(\"Most Common Aggregate Rating:\", most_common_rating)\n",
    "print(\"Average Number of Votes Received by Restaurants:\", avg_votes)\n"
   ]
  },
  {
   "cell_type": "markdown",
   "id": "f646a402-3d6d-45a2-8813-d9debdaf718a",
   "metadata": {},
   "source": [
    "# Level-2(Task-2 : Cuisine Combination)"
   ]
  },
  {
   "cell_type": "code",
   "execution_count": null,
   "id": "44102a7f-8395-483a-a6ef-15cd33ca417f",
   "metadata": {},
   "outputs": [],
   "source": [
    "#1: Identify most common cuisine combinations\n",
    "# Normalize by stripping spaces\n",
    "data['Cuisines'] = data['Cuisines'].dropna().str.strip()\n",
    "\n",
    "# Count most common combinations (exact matches)\n",
    "cuisine_combinations = data['Cuisines'].value_counts().head(10)\n",
    "\n",
    "print(\"Top 10 Most Common Cuisine Combinations:\")\n",
    "print(cuisine_combinations, \"\\n\")\n",
    "\n",
    "#2: Average rating for each cuisine combination\n",
    "cuisine_rating = (\n",
    "    data.groupby('Cuisines')['Aggregate rating']\n",
    "    .mean()\n",
    "    .round(2)\n",
    "    .sort_values(ascending=False)\n",
    ")\n",
    "print(\"Average Rating per Cuisine Combination (Top 10):\")\n",
    "print(cuisine_rating.head(10))\n"
   ]
  },
  {
   "cell_type": "markdown",
   "id": "90545ad0-efb1-4abd-a256-25e4307b216a",
   "metadata": {},
   "source": [
    "# Level-2(Task-3 : Geographic Analysis)"
   ]
  },
  {
   "cell_type": "code",
   "execution_count": null,
   "id": "8c0d23f2-cbc5-4c18-8764-49280dd72470",
   "metadata": {},
   "outputs": [],
   "source": [
    "# Plot locations of restaurants\n",
    "plt.figure(figsize=(10,6))\n",
    "plt.scatter(data['Longitude'], data['Latitude'], alpha=0.9, c='orange', s=5)\n",
    "plt.title(\"Restaurant Locations (Longitude vs Latitude)\")\n",
    "plt.xlabel(\"Longitude\")\n",
    "plt.ylabel(\"Latitude\")\n",
    "plt.show()\n"
   ]
  },
  {
   "cell_type": "markdown",
   "id": "735dec48-cc36-48d8-90fe-3132ee25dfd0",
   "metadata": {},
   "source": [
    "# Level-2(Task-4 : Restaurant Chains)"
   ]
  },
  {
   "cell_type": "code",
   "execution_count": null,
   "id": "686f7a64-c1da-4e39-82cb-6b91d85b2f48",
   "metadata": {},
   "outputs": [],
   "source": [
    "#1: Identify restaurant chains (names appearing more than once)\n",
    "restaurant_counts = data['Restaurant Name'].value_counts()\n",
    "chains = restaurant_counts[restaurant_counts > 1]\n",
    "\n",
    "print(\"Restaurant Chains Found (Top 10):\")\n",
    "print(chains.head(5), \"\\n\")\n",
    "\n",
    "#2: Analyze average ratings and popularity (votes) of chains\n",
    "chain_analysis = (\n",
    "    data[data['Restaurant Name'].isin(chains.index)]\n",
    "    .groupby('Restaurant Name')\n",
    "    .agg(\n",
    "        Restaurant_Count=('Restaurant ID', 'count'),\n",
    "        Avg_Rating=('Aggregate rating', 'mean'),\n",
    "        Avg_Votes=('Votes', 'mean')\n",
    "    )\n",
    "    .round(2)\n",
    "    .sort_values(by='Restaurant_Count', ascending=False)\n",
    ")\n",
    "\n",
    "print(\"Analysis of Restaurant Chains (Top 10):\")\n",
    "print(chain_analysis.head(5))\n"
   ]
  },
  {
   "cell_type": "markdown",
   "id": "c45e88a1-0856-4000-b748-6e29854c9ace",
   "metadata": {},
   "source": [
    "# Level-3(Task-1 : Restaurant Reviews)"
   ]
  },
  {
   "cell_type": "code",
   "execution_count": null,
   "id": "07ffb809-4a4a-4695-850d-dac40b2cdc0c",
   "metadata": {},
   "outputs": [],
   "source": [
    "#1: Check for review text column \n",
    "# Adjust column names if needed\n",
    "if 'Review Text' in data.columns:\n",
    "    reviews = data[['Review Text', 'Aggregate rating']].dropna()\n",
    "elif 'reviews_list' in data.columns:   # in case column name is different\n",
    "    reviews = data[['reviews_list', 'aggregate_rating']].dropna()\n",
    "    reviews.rename(columns={'reviews_list': 'Review Text', 'aggregate_rating': 'Aggregate rating'}, inplace=True)\n",
    "else:\n",
    "    print(\"No text review column found in dataset.\")\n",
    "    reviews = pd.DataFrame(columns=['Review Text', 'Aggregate rating'])\n",
    "\n",
    "#2: Clean and tokenize reviews \n",
    "def clean_text(text):\n",
    "    text = str(text).lower()\n",
    "    text = re.sub(r'[^a-z\\s]', '', text)  # keep only letters and spaces\n",
    "    return text.split()\n",
    "\n",
    "# Apply cleaning\n",
    "reviews['Tokens'] = reviews['Review Text'].apply(clean_text)\n",
    "\n",
    "# 3: Count positive & negative keywords \n",
    "positive_words = [\"good\", \"great\", \"excellent\", \"amazing\", \"tasty\", \"delicious\", \n",
    "                  \"friendly\", \"fast\", \"nice\", \"love\"]\n",
    "negative_words = [\"bad\", \"poor\", \"terrible\", \"slow\", \"worst\", \"awful\", \n",
    "                  \"disappointing\", \"dirty\", \"unfriendly\", \"hate\"]\n",
    "\n",
    "all_tokens = [word for tokens in reviews['Tokens'] for word in tokens]\n",
    "\n",
    "positive_counts = Counter([w for w in all_tokens if w in positive_words])\n",
    "negative_counts = Counter([w for w in all_tokens if w in negative_words])\n",
    "\n",
    "print(\"Most Common Positive Keywords:\", positive_counts.most_common(5))\n",
    "print(\"Most Common Negative Keywords:\", negative_counts.most_common(5))\n",
    "\n",
    "# 4: Average review length \n",
    "reviews['Review_Length'] = reviews['Tokens'].apply(len)\n",
    "avg_length = round(reviews['Review_Length'].mean(), 2)\n",
    "print(\"\\nAverage Review Length:\", avg_length)\n",
    "\n",
    "# 5: Relationship between review length and rating \n",
    "plt.figure(figsize=(8,5))\n",
    "plt.scatter(reviews['Review_Length'], reviews['Aggregate rating'], alpha=0.5, color=\"purple\")\n",
    "plt.title(\"Review Length vs Rating\")\n",
    "plt.xlabel(\"Review Length (words)\")\n",
    "plt.ylabel(\"Aggregate Rating\")\n",
    "plt.show()\n"
   ]
  },
  {
   "cell_type": "code",
   "execution_count": null,
   "id": "fb206953-a458-4136-938f-90f5a71bdd14",
   "metadata": {},
   "outputs": [],
   "source": [
    "# Assuming there is a column named \"Review Text\" or similar\n",
    "# (adjust column name if needed, e.g., 'Review', 'Reviews', etc.)\n",
    "if 'Review Text' in data.columns:\n",
    "    reviews = data[['Review Text', 'Aggregate rating']].dropna()\n",
    "else:\n",
    "    print(\"No text review column found in dataset.\")\n",
    "    reviews = pd.DataFrame(columns=['Review Text','Aggregate rating'])\n",
    "\n",
    "#1: Clean and tokenize reviews \n",
    "def clean_text(text):\n",
    "    text = str(text).lower()\n",
    "    text = re.sub(r'[^a-z\\s]', '', text)  # keep only letters and spaces\n",
    "    return text.split()\n",
    "\n",
    "# Apply cleaning\n",
    "reviews['Tokens'] = reviews['Review Text'].apply(clean_text)\n",
    "\n",
    "#2: Count positive & negative keywords ---\n",
    "positive_words = [\"good\", \"great\", \"excellent\", \"amazing\", \"tasty\", \"delicious\", \"friendly\", \"fast\", \"nice\", \"love\"]\n",
    "negative_words = [\"bad\", \"poor\", \"terrible\", \"slow\", \"worst\", \"awful\", \"disappointing\", \"dirty\", \"unfriendly\", \"hate\"]\n",
    "\n",
    "all_tokens = [word for tokens in reviews['Tokens'] for word in tokens]\n",
    "\n",
    "positive_counts = Counter([w for w in all_tokens if w in positive_words])\n",
    "negative_counts = Counter([w for w in all_tokens if w in negative_words])\n",
    "\n",
    "print(\" Most Common Positive Keywords:\", positive_counts.most_common(5))\n",
    "print(\"Most Common Negative Keywords:\", negative_counts.most_common(5))\n",
    "\n",
    "#3: Average review length ---\n",
    "reviews['Review_Length'] = reviews['Tokens'].apply(len)\n",
    "avg_length = reviews['Review_Length'].mean().round(2)\n",
    "print(\"\\nAverage Review Length:\", avg_length)\n",
    "\n",
    "#4: Relationship between review length and rating ---\n",
    "plt.figure(figsize=(8,5))\n",
    "plt.scatter(reviews['Review_Length'], reviews['Aggregate rating'], alpha=0.5, color=\"purple\")\n",
    "plt.title(\"Review Length vs Rating\")\n",
    "plt.xlabel(\"Review Length (words)\")\n",
    "plt.ylabel(\"Aggregate Rating\")\n",
    "plt.show()\n"
   ]
  },
  {
   "cell_type": "markdown",
   "id": "7cfba78a-011c-4107-9ebe-f5a9bd076d76",
   "metadata": {},
   "source": [
    "# Level-3(Task-2 : Votes Analysis)"
   ]
  },
  {
   "cell_type": "code",
   "execution_count": null,
   "id": "a18a4c44-b116-46aa-943f-dccc938d4160",
   "metadata": {},
   "outputs": [],
   "source": [
    "# Convert Votes to numeric just in case it's stored as string\n",
    "data['Votes'] = pd.to_numeric(data['Votes'], errors='coerce')\n",
    "# Find restaurant with highest and lowest votes\n",
    "highest_votes = data.loc[data['Votes'].idxmax(), ['Restaurant Name', 'Votes', 'Aggregate rating']]\n",
    "lowest_votes = data.loc[data['Votes'].idxmin(), ['Restaurant Name', 'Votes', 'Aggregate rating']]\n",
    "highest_votes, lowest_votes"
   ]
  },
  {
   "cell_type": "code",
   "execution_count": null,
   "id": "2ff43865-5de8-4f75-9a47-e65b360a3d0d",
   "metadata": {},
   "outputs": [],
   "source": [
    "# Correlation analysis between Votes and Aggregate rating\n",
    "correlation = data[['Votes', 'Aggregate rating']].corr().iloc[0,1]\n",
    "correlation\n",
    "#correlation coefficient between Votes and Aggregate Rating is 0.3136"
   ]
  },
  {
   "cell_type": "markdown",
   "id": "481209ab-3b7f-45e3-9f2d-635192e2f405",
   "metadata": {},
   "source": [
    "# Level-3(Task-3 : Price range VS online delivary and table booking)"
   ]
  },
  {
   "cell_type": "code",
   "execution_count": null,
   "id": "39cd3ef7-00ec-4285-892a-2eab8ebbae22",
   "metadata": {},
   "outputs": [],
   "source": [
    " # Clean up categorical columns for consistency (Yes/No)\n",
    "data['Has Table booking'] = data['Has Table booking'].str.strip().str.capitalize()\n",
    "data['Has Online delivery'] = data['Has Online delivery'].str.strip().str.capitalize()\n",
    "\n",
    "# Cross-tabulation of Price range vs Table booking and Online delivery\n",
    "table_booking_ct = pd.crosstab(data['Price range'], data['Has Table booking'], normalize='index')\n",
    "online_delivery_ct = pd.crosstab(data['Price range'], data['Has Online delivery'], normalize='index')\n",
    "\n",
    "# Plot relationship for better visualization\n",
    "fig, axes = plt.subplots(1, 2, figsize=(14, 6))\n",
    "\n",
    "table_booking_ct.plot(kind='bar', stacked=True, ax=axes[0], colormap=\"viridis\")\n",
    "axes[0].set_title(\"Price Range vs Table Booking Availability\")\n",
    "axes[0].set_ylabel(\"Proportion\")\n",
    "\n",
    "online_delivery_ct.plot(kind='bar', stacked=True, ax=axes[1], colormap=\"plasma\")\n",
    "axes[1].set_title(\"Price Range vs Online Delivery Availability\")\n",
    "axes[1].set_ylabel(\"Proportion\")\n",
    "\n",
    "plt.tight_layout()\n",
    "plt.show()\n",
    "\n",
    "table_booking_ct, online_delivery_ct\n"
   ]
  }
 ],
 "metadata": {
  "kernelspec": {
   "display_name": "Python 3 (ipykernel)",
   "language": "python",
   "name": "python3"
  },
  "language_info": {
   "codemirror_mode": {
    "name": "ipython",
    "version": 3
   },
   "file_extension": ".py",
   "mimetype": "text/x-python",
   "name": "python",
   "nbconvert_exporter": "python",
   "pygments_lexer": "ipython3",
   "version": "3.13.7"
  }
 },
 "nbformat": 4,
 "nbformat_minor": 5
}
